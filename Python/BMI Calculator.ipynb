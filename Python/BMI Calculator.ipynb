{
 "cells": [
  {
   "cell_type": "markdown",
   "id": "d4caaffb-61a4-4dcc-b5e5-ec4724dc3d8e",
   "metadata": {},
   "source": [
    "# BMI Calculator"
   ]
  },
  {
   "cell_type": "code",
   "execution_count": 2,
   "id": "76cfd397-825e-456d-92d7-8cacc8e0c806",
   "metadata": {},
   "outputs": [],
   "source": [
    "#BMI = (weight * 703)/(2*height)"
   ]
  },
  {
   "cell_type": "code",
   "execution_count": 40,
   "id": "67f50eb3-4687-47cc-9a2e-88b029445c4d",
   "metadata": {},
   "outputs": [
    {
     "name": "stdin",
     "output_type": "stream",
     "text": [
      "Enter your name: Diego\n",
      "Enter your weight in pounds: 170\n",
      "Enter your height in inches: 69\n"
     ]
    },
    {
     "name": "stdout",
     "output_type": "stream",
     "text": [
      "Your BMI is: 25.101869355177485\n",
      "You better stop eating so much Diego\n"
     ]
    }
   ],
   "source": [
    "name = input(\"Enter your name:\")\n",
    "weight = int(input(\"Enter your weight in pounds:\"))\n",
    "height = int(input(\"Enter your height in inches:\"))\n",
    "BMI = (weight*703)/(height**2)\n",
    "print(\"Your BMI is:\" , BMI)\n",
    "\n",
    "if BMI > 0:\n",
    "    if(BMI<18.5):\n",
    "        print(\"You are underweight, \", name)\n",
    "    elif(BMI<=24.9):\n",
    "        print(\"You are normal, \", name)\n",
    "    elif(BMI<29.9):\n",
    "        print(\"You better stop eating so much\", name)\n",
    "    elif(BMI<39.9):\n",
    "        print(\"That´s getting kind of unhealthy\", name)\n",
    "    elif(BMI>40):\n",
    "        print(\"Dr. Nowzaradan, are you there?!\")\n",
    "else: \n",
    "    print(\"Looks like there was a fat mistake\", name)"
   ]
  },
  {
   "cell_type": "code",
   "execution_count": null,
   "id": "9885c77c-81ad-4f72-8ade-80afadcc5f8d",
   "metadata": {},
   "outputs": [],
   "source": []
  },
  {
   "cell_type": "code",
   "execution_count": null,
   "id": "65d41fbb-cb53-4aad-84e1-cf9c07473aa3",
   "metadata": {},
   "outputs": [],
   "source": []
  },
  {
   "cell_type": "code",
   "execution_count": null,
   "id": "7f1af9ce-4321-46b7-9d36-e83b2b8fe003",
   "metadata": {},
   "outputs": [],
   "source": []
  },
  {
   "cell_type": "code",
   "execution_count": null,
   "id": "a2da6301-7bd1-4839-9672-c3c467bcf229",
   "metadata": {},
   "outputs": [],
   "source": []
  },
  {
   "cell_type": "code",
   "execution_count": null,
   "id": "6d0e1376-c2c9-4e2c-979c-211b7f350205",
   "metadata": {},
   "outputs": [],
   "source": []
  },
  {
   "cell_type": "code",
   "execution_count": null,
   "id": "a3af4ca7-9b6a-45c0-ab1d-3a58a57f0d84",
   "metadata": {},
   "outputs": [],
   "source": []
  }
 ],
 "metadata": {
  "kernelspec": {
   "display_name": "Python 3 (ipykernel)",
   "language": "python",
   "name": "python3"
  },
  "language_info": {
   "codemirror_mode": {
    "name": "ipython",
    "version": 3
   },
   "file_extension": ".py",
   "mimetype": "text/x-python",
   "name": "python",
   "nbconvert_exporter": "python",
   "pygments_lexer": "ipython3",
   "version": "3.11.7"
  }
 },
 "nbformat": 4,
 "nbformat_minor": 5
}
