{
 "cells": [
  {
   "cell_type": "markdown",
   "id": "f5de06f2-b8fa-43fd-94af-7afa74507128",
   "metadata": {},
   "source": [
    "# -Python Essentials"
   ]
  },
  {
   "cell_type": "markdown",
   "id": "43d959c8-029f-48ce-91cc-60bc42c08f84",
   "metadata": {},
   "source": [
    "# Variables"
   ]
  },
  {
   "cell_type": "code",
   "execution_count": 22,
   "id": "7174c63c-7184-47cd-b530-ca4880210c93",
   "metadata": {},
   "outputs": [
    {
     "name": "stdout",
     "output_type": "stream",
     "text": [
      "22\n"
     ]
    }
   ],
   "source": [
    "# This is a single variable\n",
    "x = 22\n",
    "# print is used to print a variable\n",
    "print(x)"
   ]
  },
  {
   "cell_type": "code",
   "execution_count": 24,
   "id": "ec9db52a-85d0-46f2-9281-b9438b8f8122",
   "metadata": {},
   "outputs": [
    {
     "data": {
      "text/plain": [
       "int"
      ]
     },
     "execution_count": 24,
     "metadata": {},
     "output_type": "execute_result"
    }
   ],
   "source": [
    "#Type is used to see what type of variable is the stated\n",
    "type (x)"
   ]
  },
  {
   "cell_type": "code",
   "execution_count": 26,
   "id": "1b7d88d8-0720-4704-af8a-c2195933d25c",
   "metadata": {},
   "outputs": [
    {
     "name": "stdout",
     "output_type": "stream",
     "text": [
      "Mint Chocolate Chip\n"
     ]
    },
    {
     "data": {
      "text/plain": [
       "str"
      ]
     },
     "execution_count": 26,
     "metadata": {},
     "output_type": "execute_result"
    }
   ],
   "source": [
    "#Additional to numbers, you can save strings on variables\n",
    "y = \"Mint Chocolate Chip\"\n",
    "print(y)\n",
    "type(y)"
   ]
  },
  {
   "cell_type": "code",
   "execution_count": 28,
   "id": "db90ac98-eba0-4da7-8291-b380524552c2",
   "metadata": {},
   "outputs": [
    {
     "name": "stdout",
     "output_type": "stream",
     "text": [
      "Chocolate\n",
      "Vanilla\n",
      "Rocky Road\n"
     ]
    }
   ],
   "source": [
    "#You can give value to the variables in a coma separated way\n",
    "x, y, z = \"Chocolate\",\"Vanilla\",\"Rocky Road\"\n",
    "print(x)\n",
    "print(y)\n",
    "print(z)"
   ]
  },
  {
   "cell_type": "code",
   "execution_count": 30,
   "id": "a43d6757-6f98-4571-a0c2-e75f13168d97",
   "metadata": {},
   "outputs": [
    {
     "name": "stdout",
     "output_type": "stream",
     "text": [
      "Root Beer Float\n",
      "Root Beer Float\n",
      "Root Beer Float\n"
     ]
    }
   ],
   "source": [
    "#This shows an equality, it is also possible that several variables have the same value\n",
    "x = y = z = \"Root Beer Float\"\n",
    "print(x)\n",
    "print(y)\n",
    "print(z)"
   ]
  },
  {
   "cell_type": "code",
   "execution_count": 34,
   "id": "de47e36e-0961-4521-bdcc-2537f721d8ed",
   "metadata": {},
   "outputs": [
    {
     "name": "stdout",
     "output_type": "stream",
     "text": [
      "Chocolate\n",
      "Vanilla\n",
      "Rocky Road\n"
     ]
    }
   ],
   "source": [
    "# A variable can also have lists inside it\n",
    "ice_cream = [\"Chocolate\",\"Vanilla\",\"Rocky Road\"]\n",
    "x, y, z = ice_cream\n",
    "print(x)\n",
    "print(y)\n",
    "print(z)"
   ]
  },
  {
   "cell_type": "code",
   "execution_count": null,
   "id": "74c41501-3c42-4086-8c3a-46806675c7b8",
   "metadata": {},
   "outputs": [],
   "source": [
    "# Ways to name a variable \n",
    "# 1-Camel Case\n",
    "testVariableCase = \"Vanilla Swirl\"\n",
    "\n",
    "# 2- Pascal Case\n",
    "TestVariableCase = \"Vanilla Swirl\"\n",
    "\n",
    "# 3- Snake Case\n",
    "test_variable_case = \"Vanilla Swirl\""
   ]
  },
  {
   "cell_type": "code",
   "execution_count": null,
   "id": "22e4c245-62a9-460c-be5f-4d62340e01c8",
   "metadata": {},
   "outputs": [],
   "source": [
    "# Good Variable Names\n",
    "testvar =\n",
    "tets_var = \n",
    "_test_var =\n",
    "testVar =\n",
    "TestVar =\n",
    "testVar2 = "
   ]
  },
  {
   "cell_type": "code",
   "execution_count": null,
   "id": "588fa9d2-f179-4cef-91e5-27950f15927d",
   "metadata": {},
   "outputs": [],
   "source": [
    "# Bad variable names \n",
    "2testvar =\n",
    "test-Var2 =\n",
    "test Var2 =\n",
    "test,Var2 ="
   ]
  },
  {
   "cell_type": "code",
   "execution_count": 5,
   "id": "0ac1e262-2e6b-4e87-bb32-d9b69642c937",
   "metadata": {},
   "outputs": [
    {
     "name": "stdout",
     "output_type": "stream",
     "text": [
      "Ice cream is my favourite dessert.\n"
     ]
    }
   ],
   "source": [
    "# Adding strings\n",
    "x = \"Ice cream is my favourite\" + \" dessert.\"\n",
    "print(x)"
   ]
  },
  {
   "cell_type": "code",
   "execution_count": 7,
   "id": "89178c8e-e028-4392-95c9-4f36221135ff",
   "metadata": {},
   "outputs": [
    {
     "ename": "TypeError",
     "evalue": "can only concatenate str (not \"int\") to str",
     "output_type": "error",
     "traceback": [
      "\u001b[1;31m---------------------------------------------------------------------------\u001b[0m",
      "\u001b[1;31mTypeError\u001b[0m                                 Traceback (most recent call last)",
      "Cell \u001b[1;32mIn[7], line 2\u001b[0m\n\u001b[0;32m      1\u001b[0m \u001b[38;5;66;03m# You cannot add a string amd an integer\u001b[39;00m\n\u001b[1;32m----> 2\u001b[0m x \u001b[38;5;241m=\u001b[39m \u001b[38;5;124m\"\u001b[39m\u001b[38;5;124mIce cream is my favourite\u001b[39m\u001b[38;5;124m\"\u001b[39m \u001b[38;5;241m+\u001b[39m \u001b[38;5;241m2\u001b[39m\n",
      "\u001b[1;31mTypeError\u001b[0m: can only concatenate str (not \"int\") to str"
     ]
    }
   ],
   "source": [
    "# You cannot add a string amd an integer\n",
    "x = \"Ice cream is my favourite\" + 2"
   ]
  },
  {
   "cell_type": "code",
   "execution_count": 9,
   "id": "66346b74-a125-47f6-a5b6-37d212f12ad2",
   "metadata": {},
   "outputs": [
    {
     "name": "stdout",
     "output_type": "stream",
     "text": [
      "Ice cream is my favourite.\n"
     ]
    }
   ],
   "source": [
    "# Another way of joining strings:\n",
    "x= \"Ice cream\"\n",
    "y= \" is\"\n",
    "z= \" my favourite.\"\n",
    "print(x+y+z)"
   ]
  },
  {
   "cell_type": "code",
   "execution_count": 11,
   "id": "116a3486-9a3b-4c61-9969-62f1711faa30",
   "metadata": {},
   "outputs": [
    {
     "name": "stdout",
     "output_type": "stream",
     "text": [
      "Ice cream 2\n"
     ]
    }
   ],
   "source": [
    "# There is a way to combine a string and an integer using a comma \n",
    "x= \"Ice cream\"\n",
    "y= 2\n",
    "\n",
    "print(x,y)"
   ]
  },
  {
   "cell_type": "code",
   "execution_count": null,
   "id": "d5d0efd9-c4d0-4617-9a36-e30677944af0",
   "metadata": {},
   "outputs": [],
   "source": []
  },
  {
   "cell_type": "markdown",
   "id": "8c41901c-e4cb-49f0-86d1-3f982de2dacb",
   "metadata": {},
   "source": [
    "# -DATA TYPES"
   ]
  },
  {
   "cell_type": "markdown",
   "id": "4e3182f6-9208-4b7f-9409-6179f7ee102a",
   "metadata": {},
   "source": [
    "## Numeric"
   ]
  },
  {
   "cell_type": "code",
   "execution_count": 20,
   "id": "a0047c97-162f-4945-ab74-e38789eb074b",
   "metadata": {},
   "outputs": [
    {
     "data": {
      "text/plain": [
       "int"
      ]
     },
     "execution_count": 20,
     "metadata": {},
     "output_type": "execute_result"
    }
   ],
   "source": [
    "type(2)"
   ]
  },
  {
   "cell_type": "code",
   "execution_count": 22,
   "id": "824eb8f5-82ec-44c5-afe1-20dc03732145",
   "metadata": {},
   "outputs": [
    {
     "data": {
      "text/plain": [
       "float"
      ]
     },
     "execution_count": 22,
     "metadata": {},
     "output_type": "execute_result"
    }
   ],
   "source": [
    "type(12.56)"
   ]
  },
  {
   "cell_type": "code",
   "execution_count": 24,
   "id": "a71bd68e-8c9d-4be5-a15f-dd1f5ef9d5cd",
   "metadata": {},
   "outputs": [
    {
     "data": {
      "text/plain": [
       "complex"
      ]
     },
     "execution_count": 24,
     "metadata": {},
     "output_type": "execute_result"
    }
   ],
   "source": [
    "type (25j)"
   ]
  },
  {
   "cell_type": "markdown",
   "id": "4047367b-b96d-4f27-8ac3-d41bfc09a4f9",
   "metadata": {},
   "source": [
    "## Boolean"
   ]
  },
  {
   "cell_type": "code",
   "execution_count": 27,
   "id": "eba8ae52-1b61-4a27-ad25-aeb2f93d62b4",
   "metadata": {},
   "outputs": [
    {
     "data": {
      "text/plain": [
       "bool"
      ]
     },
     "execution_count": 27,
     "metadata": {},
     "output_type": "execute_result"
    }
   ],
   "source": [
    "type(False)"
   ]
  },
  {
   "cell_type": "code",
   "execution_count": 29,
   "id": "b139d3f0-bd7f-4542-9c0e-7cc464dbed16",
   "metadata": {},
   "outputs": [
    {
     "data": {
      "text/plain": [
       "bool"
      ]
     },
     "execution_count": 29,
     "metadata": {},
     "output_type": "execute_result"
    }
   ],
   "source": [
    "type(True)"
   ]
  },
  {
   "cell_type": "code",
   "execution_count": 31,
   "id": "77d3712c-f2d0-4944-82fa-7f941a15f67e",
   "metadata": {},
   "outputs": [
    {
     "data": {
      "text/plain": [
       "True"
      ]
     },
     "execution_count": 31,
     "metadata": {},
     "output_type": "execute_result"
    }
   ],
   "source": [
    "1==1"
   ]
  },
  {
   "cell_type": "code",
   "execution_count": 33,
   "id": "6e85eb31-476a-4763-a750-3dbb1e75c2d6",
   "metadata": {},
   "outputs": [
    {
     "data": {
      "text/plain": [
       "False"
      ]
     },
     "execution_count": 33,
     "metadata": {},
     "output_type": "execute_result"
    }
   ],
   "source": [
    "2>5"
   ]
  },
  {
   "cell_type": "markdown",
   "id": "9974ad76-f83a-495c-8a7e-bfeeb8557a36",
   "metadata": {},
   "source": [
    "## Sequence Data Types"
   ]
  },
  {
   "cell_type": "markdown",
   "id": "b3c94204-3cf4-48d2-aa33-d2276c5aa81b",
   "metadata": {},
   "source": [
    "### 1. Strings"
   ]
  },
  {
   "cell_type": "code",
   "execution_count": 38,
   "id": "1ca018b0-edd1-4ee1-8266-ec581fc970c3",
   "metadata": {},
   "outputs": [
    {
     "data": {
      "text/plain": [
       "'Single Quote'"
      ]
     },
     "execution_count": 38,
     "metadata": {},
     "output_type": "execute_result"
    }
   ],
   "source": [
    "'Single Quote'"
   ]
  },
  {
   "cell_type": "code",
   "execution_count": 40,
   "id": "8bd86b35-0a96-4157-bb01-b9773ccad59e",
   "metadata": {},
   "outputs": [
    {
     "data": {
      "text/plain": [
       "'Double Quote'"
      ]
     },
     "execution_count": 40,
     "metadata": {},
     "output_type": "execute_result"
    }
   ],
   "source": [
    "\"Double Quote\""
   ]
  },
  {
   "cell_type": "code",
   "execution_count": 42,
   "id": "c38d7890-fde7-4441-9b76-fbb737f30245",
   "metadata": {},
   "outputs": [],
   "source": [
    "multiline = \"\"\"\n",
    "Si pudiera pedirle un deseo a la muerte sería que nunca te faltaran las flores\n",
    "\"\"\""
   ]
  },
  {
   "cell_type": "code",
   "execution_count": 44,
   "id": "62ffe0e6-15e0-412b-8d47-a10d6a70b427",
   "metadata": {},
   "outputs": [
    {
     "name": "stdout",
     "output_type": "stream",
     "text": [
      "\n",
      "Si pudiera pedirle un deseo a la muerte sería que nunca te faltaran las flores\n",
      "\n"
     ]
    }
   ],
   "source": [
    "print(multiline)"
   ]
  },
  {
   "cell_type": "code",
   "execution_count": 60,
   "id": "1e107124-1ce0-4d52-909b-916641b49d1d",
   "metadata": {},
   "outputs": [
    {
     "name": "stdout",
     "output_type": "stream",
     "text": [
      "llo\n"
     ]
    }
   ],
   "source": [
    "# There is a way to retrieve a specific character of a string using squared parenthesis\n",
    "a = \"Hello World!\"\n",
    "print(a[2:5])"
   ]
  },
  {
   "cell_type": "code",
   "execution_count": 62,
   "id": "26767bca-46bb-4464-9c12-5aa1fce698e7",
   "metadata": {},
   "outputs": [
    {
     "data": {
      "text/plain": [
       "'Hello World!Hello World!Hello World!Hello World!Hello World!'"
      ]
     },
     "execution_count": 62,
     "metadata": {},
     "output_type": "execute_result"
    }
   ],
   "source": [
    "# You can multiply strings\n",
    "a*5"
   ]
  },
  {
   "cell_type": "code",
   "execution_count": 64,
   "id": "05d7bbf1-d39a-47eb-aea8-4067875a9c5b",
   "metadata": {},
   "outputs": [
    {
     "data": {
      "text/plain": [
       "'Hello World!Hello World!'"
      ]
     },
     "execution_count": 64,
     "metadata": {},
     "output_type": "execute_result"
    }
   ],
   "source": [
    "a+a"
   ]
  },
  {
   "cell_type": "markdown",
   "id": "0d1e1792-dd9b-45a7-a49c-d08478d58090",
   "metadata": {},
   "source": [
    "### 2. Lists"
   ]
  },
  {
   "cell_type": "code",
   "execution_count": 73,
   "id": "428d1d9b-2bd3-4d22-a538-191652564665",
   "metadata": {},
   "outputs": [
    {
     "data": {
      "text/plain": [
       "[1, 2, 3]"
      ]
     },
     "execution_count": 73,
     "metadata": {},
     "output_type": "execute_result"
    }
   ],
   "source": [
    "# Lists are represented by \"[]\" and the contents are always separated by comma\n",
    "[1,2,3]"
   ]
  },
  {
   "cell_type": "code",
   "execution_count": 75,
   "id": "4a8db528-3434-4b14-bb2c-6cab63057c96",
   "metadata": {},
   "outputs": [
    {
     "data": {
      "text/plain": [
       "['vanilla', 'strawberry', 'chocolate']"
      ]
     },
     "execution_count": 75,
     "metadata": {},
     "output_type": "execute_result"
    }
   ],
   "source": [
    "[\"vanilla\",\"strawberry\",\"chocolate\"]"
   ]
  },
  {
   "cell_type": "code",
   "execution_count": null,
   "id": "6a8ac436-f286-4dba-858a-7e10b1ecb4fb",
   "metadata": {},
   "outputs": [],
   "source": [
    "# Lists can store any type of data inside them"
   ]
  },
  {
   "cell_type": "code",
   "execution_count": 79,
   "id": "9e9b1aeb-94c1-44df-a195-96eff4094342",
   "metadata": {},
   "outputs": [
    {
     "data": {
      "text/plain": [
       "['vanilla', 3, ['scoop', 'spoon'], True]"
      ]
     },
     "execution_count": 79,
     "metadata": {},
     "output_type": "execute_result"
    }
   ],
   "source": [
    "[\"vanilla\",3,[\"scoop\",\"spoon\"],True]"
   ]
  },
  {
   "cell_type": "code",
   "execution_count": 81,
   "id": "9aad0ae1-dfc9-4586-9341-3f30361ad10f",
   "metadata": {},
   "outputs": [],
   "source": [
    "ice_cream = [\"vanilla\",\"strawberry\",\"chocolate\"]"
   ]
  },
  {
   "cell_type": "code",
   "execution_count": 83,
   "id": "a0eb573b-16a8-42e2-a2a7-645e25df9d18",
   "metadata": {},
   "outputs": [
    {
     "data": {
      "text/plain": [
       "['vanilla', 'strawberry', 'chocolate', 'grosella']"
      ]
     },
     "execution_count": 83,
     "metadata": {},
     "output_type": "execute_result"
    }
   ],
   "source": [
    "# Lists can be modified whenever user wants, for example:\n",
    "ice_cream.append(\"grosella\")\n",
    "ice_cream"
   ]
  },
  {
   "cell_type": "code",
   "execution_count": 85,
   "id": "36fd885c-1b2c-480f-b687-7d61af449e8e",
   "metadata": {},
   "outputs": [
    {
     "data": {
      "text/plain": [
       "['stracciatella', 'strawberry', 'chocolate', 'grosella']"
      ]
     },
     "execution_count": 85,
     "metadata": {},
     "output_type": "execute_result"
    }
   ],
   "source": [
    "ice_cream[0] = \"stracciatella\"\n",
    "ice_cream"
   ]
  },
  {
   "cell_type": "code",
   "execution_count": 87,
   "id": "f15d6f2e-7caf-4b10-b388-88ab8365ad42",
   "metadata": {},
   "outputs": [],
   "source": [
    "# Lists that are inside lists are called \"nested lists\" and you can work with them too\n",
    "nest_list = [\"vanilla\",3,[\"scoop\",\"spoon\"],True]"
   ]
  },
  {
   "cell_type": "code",
   "execution_count": 89,
   "id": "a87b7b32-de39-423b-85ea-dd8b7603f4a0",
   "metadata": {},
   "outputs": [
    {
     "data": {
      "text/plain": [
       "'scoop'"
      ]
     },
     "execution_count": 89,
     "metadata": {},
     "output_type": "execute_result"
    }
   ],
   "source": [
    "nest_list[2][0]"
   ]
  },
  {
   "cell_type": "markdown",
   "id": "84c10dc4-86a2-4ae6-9587-231fb872bab9",
   "metadata": {},
   "source": [
    "### 3. Tuples"
   ]
  },
  {
   "cell_type": "code",
   "execution_count": null,
   "id": "f71bcc77-b6e2-46a8-8e3b-0437f5736870",
   "metadata": {},
   "outputs": [],
   "source": [
    "# Tuples are like lists but they cannot be changed, they are used for data that is never going to change."
   ]
  },
  {
   "cell_type": "code",
   "execution_count": 3,
   "id": "ffa0492c-2ac4-4875-aa91-3408d5a0d1e3",
   "metadata": {},
   "outputs": [],
   "source": [
    "tuple_scoops = (1,2,3,2,1)"
   ]
  },
  {
   "cell_type": "code",
   "execution_count": 5,
   "id": "de8664f6-70ce-4bed-bdea-03748179d44a",
   "metadata": {},
   "outputs": [
    {
     "data": {
      "text/plain": [
       "tuple"
      ]
     },
     "execution_count": 5,
     "metadata": {},
     "output_type": "execute_result"
    }
   ],
   "source": [
    "type(tuple_scoops)"
   ]
  },
  {
   "cell_type": "code",
   "execution_count": 7,
   "id": "b7771da3-f775-43dc-8311-4ff8c6076eda",
   "metadata": {},
   "outputs": [
    {
     "data": {
      "text/plain": [
       "2"
      ]
     },
     "execution_count": 7,
     "metadata": {},
     "output_type": "execute_result"
    }
   ],
   "source": [
    "tuple_scoops[3]"
   ]
  },
  {
   "cell_type": "code",
   "execution_count": 9,
   "id": "2d69f2b9-7d1d-4055-8b47-78c82823a10b",
   "metadata": {},
   "outputs": [
    {
     "ename": "NameError",
     "evalue": "name 'tupple_scoops' is not defined",
     "output_type": "error",
     "traceback": [
      "\u001b[1;31m---------------------------------------------------------------------------\u001b[0m",
      "\u001b[1;31mNameError\u001b[0m                                 Traceback (most recent call last)",
      "Cell \u001b[1;32mIn[9], line 1\u001b[0m\n\u001b[1;32m----> 1\u001b[0m tupple_scoops\u001b[38;5;241m.\u001b[39mappend(\u001b[38;5;241m3\u001b[39m)\n",
      "\u001b[1;31mNameError\u001b[0m: name 'tupple_scoops' is not defined"
     ]
    }
   ],
   "source": [
    "tupple_scoops.append(3)"
   ]
  },
  {
   "cell_type": "markdown",
   "id": "86449dbc-05ea-422c-abc8-0b5a6bf9ec29",
   "metadata": {},
   "source": [
    "### 4. Sets"
   ]
  },
  {
   "cell_type": "code",
   "execution_count": null,
   "id": "45593185-be30-42e8-9516-af52af82103e",
   "metadata": {},
   "outputs": [],
   "source": [
    "# Sets are like lists and tuples but they do not have any duplicate element, it is unordered and it doesn´t have index"
   ]
  },
  {
   "cell_type": "code",
   "execution_count": 13,
   "id": "e11b973e-a820-4a3f-900a-095a93a530a8",
   "metadata": {},
   "outputs": [],
   "source": [
    "daily_pints = {1,2,3}"
   ]
  },
  {
   "cell_type": "code",
   "execution_count": 15,
   "id": "11feb780-a3e7-46cd-9815-4eba33c262c3",
   "metadata": {},
   "outputs": [
    {
     "data": {
      "text/plain": [
       "set"
      ]
     },
     "execution_count": 15,
     "metadata": {},
     "output_type": "execute_result"
    }
   ],
   "source": [
    "type(daily_pints)"
   ]
  },
  {
   "cell_type": "code",
   "execution_count": 17,
   "id": "a35b0a64-c3a6-41cb-abc7-8d8591812219",
   "metadata": {},
   "outputs": [
    {
     "name": "stdout",
     "output_type": "stream",
     "text": [
      "{1, 2, 3}\n"
     ]
    }
   ],
   "source": [
    "print(daily_pints)"
   ]
  },
  {
   "cell_type": "code",
   "execution_count": null,
   "id": "b8cdc5ca-eaf4-4e2e-8966-5307b8ebb026",
   "metadata": {},
   "outputs": [],
   "source": [
    "# When a set is presented, it will give back only the individual values without any duplicate, this can really help when comparing two o more lists, you just transform them into sets and compare their individual assets"
   ]
  },
  {
   "cell_type": "code",
   "execution_count": 19,
   "id": "8d8643bf-34d0-4081-af15-598ce4bc2e11",
   "metadata": {},
   "outputs": [
    {
     "name": "stdout",
     "output_type": "stream",
     "text": [
      "{1, 2, 3, 4, 5, 6, 31}\n"
     ]
    }
   ],
   "source": [
    "daily_pints_log = {1,2,31,2,3,4,1,2,5,6,3,2,4,5}\n",
    "print(daily_pints_log)"
   ]
  },
  {
   "cell_type": "code",
   "execution_count": 21,
   "id": "4a1790e8-fb87-456b-8f53-d000ac6194c2",
   "metadata": {},
   "outputs": [],
   "source": [
    "wifes_daily_pints_log = {1,56,9,8,3,4,4,6,5,7,2,3,1,69,84}"
   ]
  },
  {
   "cell_type": "code",
   "execution_count": 25,
   "id": "6fa1c40c-5202-4e72-8ffe-88f7de9dd8e6",
   "metadata": {},
   "outputs": [
    {
     "name": "stdout",
     "output_type": "stream",
     "text": [
      "{1, 2, 3, 4, 5, 6, 7, 8, 9, 69, 84, 31, 56}\n"
     ]
    }
   ],
   "source": [
    "print(wifes_daily_pints_log | daily_pints_log)"
   ]
  },
  {
   "cell_type": "code",
   "execution_count": 27,
   "id": "c54b4ccd-c414-4bcb-9d68-d1ec6e767086",
   "metadata": {},
   "outputs": [
    {
     "name": "stdout",
     "output_type": "stream",
     "text": [
      "{1, 2, 3, 4, 5, 6}\n"
     ]
    }
   ],
   "source": [
    "print(wifes_daily_pints_log & daily_pints_log)"
   ]
  },
  {
   "cell_type": "code",
   "execution_count": 29,
   "id": "9ac597d7-51e6-4f22-9245-2c46cf93b24e",
   "metadata": {},
   "outputs": [
    {
     "name": "stdout",
     "output_type": "stream",
     "text": [
      "{69, 7, 8, 9, 84, 56}\n"
     ]
    }
   ],
   "source": [
    "print(wifes_daily_pints_log - daily_pints_log)"
   ]
  },
  {
   "cell_type": "code",
   "execution_count": 31,
   "id": "d7a659d2-fbd8-4936-92f8-d6d4ed8d644a",
   "metadata": {},
   "outputs": [
    {
     "name": "stdout",
     "output_type": "stream",
     "text": [
      "{84, 69, 7, 8, 9, 56, 31}\n"
     ]
    }
   ],
   "source": [
    "print(wifes_daily_pints_log ^ daily_pints_log)"
   ]
  },
  {
   "cell_type": "markdown",
   "id": "21cae101-edad-4da5-83e0-715b45927d38",
   "metadata": {},
   "source": [
    "### 5. Dictionaries"
   ]
  },
  {
   "cell_type": "code",
   "execution_count": 34,
   "id": "65bb509c-19c9-4226-bb74-3f5ddd801133",
   "metadata": {},
   "outputs": [],
   "source": [
    "dictionary_cream = {\"name\": \"Alex Freberg\", \"weekly intake\": 5, \"favourite ice creams\": [\"mcc\",\"chocolate\"]}"
   ]
  },
  {
   "cell_type": "code",
   "execution_count": 36,
   "id": "9c3493c8-c457-448a-83bf-3dc4c30375ab",
   "metadata": {},
   "outputs": [
    {
     "data": {
      "text/plain": [
       "dict"
      ]
     },
     "execution_count": 36,
     "metadata": {},
     "output_type": "execute_result"
    }
   ],
   "source": [
    "type(dictionary_cream)"
   ]
  },
  {
   "cell_type": "code",
   "execution_count": 38,
   "id": "a3061e02-bffd-4499-bf6c-572fd9018105",
   "metadata": {},
   "outputs": [
    {
     "name": "stdout",
     "output_type": "stream",
     "text": [
      "{'name': 'Alex Freberg', 'weekly intake': 5, 'favourite ice creams': ['mcc', 'chocolate']}\n"
     ]
    }
   ],
   "source": [
    "print(dictionary_cream)"
   ]
  },
  {
   "cell_type": "code",
   "execution_count": 40,
   "id": "200f4800-000e-4207-ab91-335f1a6a87bf",
   "metadata": {},
   "outputs": [
    {
     "data": {
      "text/plain": [
       "dict_values(['Alex Freberg', 5, ['mcc', 'chocolate']])"
      ]
     },
     "execution_count": 40,
     "metadata": {},
     "output_type": "execute_result"
    }
   ],
   "source": [
    "dictionary_cream.values()"
   ]
  },
  {
   "cell_type": "code",
   "execution_count": 42,
   "id": "a06c994e-48d2-473a-ad25-b61c54465fcd",
   "metadata": {},
   "outputs": [
    {
     "data": {
      "text/plain": [
       "dict_keys(['name', 'weekly intake', 'favourite ice creams'])"
      ]
     },
     "execution_count": 42,
     "metadata": {},
     "output_type": "execute_result"
    }
   ],
   "source": [
    "dictionary_cream.keys()"
   ]
  },
  {
   "cell_type": "code",
   "execution_count": 44,
   "id": "c1fc61fe-b8f3-4049-aee7-f8b076c55132",
   "metadata": {},
   "outputs": [
    {
     "data": {
      "text/plain": [
       "dict_items([('name', 'Alex Freberg'), ('weekly intake', 5), ('favourite ice creams', ['mcc', 'chocolate'])])"
      ]
     },
     "execution_count": 44,
     "metadata": {},
     "output_type": "execute_result"
    }
   ],
   "source": [
    "dictionary_cream.items()"
   ]
  },
  {
   "cell_type": "code",
   "execution_count": 46,
   "id": "c4b385fd-b4a3-4c99-881d-5d085fd8abc8",
   "metadata": {},
   "outputs": [
    {
     "data": {
      "text/plain": [
       "'Alex Freberg'"
      ]
     },
     "execution_count": 46,
     "metadata": {},
     "output_type": "execute_result"
    }
   ],
   "source": [
    "dictionary_cream[\"name\"]"
   ]
  },
  {
   "cell_type": "code",
   "execution_count": 48,
   "id": "983b0c53-429b-4aee-8d2f-b10963304e8e",
   "metadata": {},
   "outputs": [
    {
     "name": "stdout",
     "output_type": "stream",
     "text": [
      "{'name': 'Diego Avalos', 'weekly intake': 5, 'favourite ice creams': ['mcc', 'chocolate']}\n"
     ]
    }
   ],
   "source": [
    "dictionary_cream[\"name\"] = \"Diego Avalos\"\n",
    "print(dictionary_cream)"
   ]
  },
  {
   "cell_type": "code",
   "execution_count": 60,
   "id": "20493051-91a9-4821-992a-e779fa8ddd95",
   "metadata": {},
   "outputs": [
    {
     "ename": "AttributeError",
     "evalue": "'dict' object attribute 'update' is read-only",
     "output_type": "error",
     "traceback": [
      "\u001b[1;31m---------------------------------------------------------------------------\u001b[0m",
      "\u001b[1;31mAttributeError\u001b[0m                            Traceback (most recent call last)",
      "Cell \u001b[1;32mIn[60], line 1\u001b[0m\n\u001b[1;32m----> 1\u001b[0m dictionary_cream\u001b[38;5;241m.\u001b[39mupdate \u001b[38;5;241m=\u001b[39m ({\u001b[38;5;124m\"\u001b[39m\u001b[38;5;124mname\u001b[39m\u001b[38;5;124m\"\u001b[39m: \u001b[38;5;124m\"\u001b[39m\u001b[38;5;124mAlex Freberg\u001b[39m\u001b[38;5;124m\"\u001b[39m, \u001b[38;5;124m\"\u001b[39m\u001b[38;5;124mweekly intake\u001b[39m\u001b[38;5;124m\"\u001b[39m: \u001b[38;5;241m10\u001b[39m, \u001b[38;5;124m\"\u001b[39m\u001b[38;5;124mweight\u001b[39m\u001b[38;5;124m\"\u001b[39m: \u001b[38;5;241m300\u001b[39m})\n",
      "\u001b[1;31mAttributeError\u001b[0m: 'dict' object attribute 'update' is read-only"
     ]
    }
   ],
   "source": [
    "dictionary_cream.update = ({\"name\": \"Alex Freberg\", \"weekly intake\": 10, \"weight\": 300})"
   ]
  },
  {
   "cell_type": "markdown",
   "id": "345ce7c9-6ae8-4382-82b3-f0e6b366f36e",
   "metadata": {},
   "source": [
    "## Comparison Operators"
   ]
  },
  {
   "cell_type": "code",
   "execution_count": null,
   "id": "fefdccf7-9e2b-49d3-8393-7e477779dc9c",
   "metadata": {},
   "outputs": [],
   "source": [
    "# They are used to perform operations on variables and values \n",
    "# == Equal\n",
    "# != Not Equal\n",
    "# > Greater Than\n",
    "# > Less Than\n",
    "# >= Greater than or equal to\n",
    "# <= Less than or equal to "
   ]
  },
  {
   "cell_type": "code",
   "execution_count": 2,
   "id": "41b26a9e-25aa-4bb3-b011-d3160b3a2229",
   "metadata": {},
   "outputs": [
    {
     "data": {
      "text/plain": [
       "True"
      ]
     },
     "execution_count": 2,
     "metadata": {},
     "output_type": "execute_result"
    }
   ],
   "source": [
    "10 == 10"
   ]
  },
  {
   "cell_type": "code",
   "execution_count": 4,
   "id": "85cd85fa-35d3-4b18-9682-893b8b95c319",
   "metadata": {},
   "outputs": [
    {
     "data": {
      "text/plain": [
       "False"
      ]
     },
     "execution_count": 4,
     "metadata": {},
     "output_type": "execute_result"
    }
   ],
   "source": [
    "10 == 50"
   ]
  },
  {
   "cell_type": "code",
   "execution_count": 6,
   "id": "e0253869-f66d-422a-8caf-31041770613f",
   "metadata": {},
   "outputs": [
    {
     "data": {
      "text/plain": [
       "True"
      ]
     },
     "execution_count": 6,
     "metadata": {},
     "output_type": "execute_result"
    }
   ],
   "source": [
    "10 != 50"
   ]
  },
  {
   "cell_type": "code",
   "execution_count": 8,
   "id": "3da728bd-049e-4235-9a63-3bc46d050b8f",
   "metadata": {},
   "outputs": [],
   "source": [
    "x = \"Vanilla\"\n",
    "y = \"Chocolate\""
   ]
  },
  {
   "cell_type": "code",
   "execution_count": 10,
   "id": "81fe916a-92df-4576-ae19-69ab89afccaa",
   "metadata": {},
   "outputs": [
    {
     "data": {
      "text/plain": [
       "True"
      ]
     },
     "execution_count": 10,
     "metadata": {},
     "output_type": "execute_result"
    }
   ],
   "source": [
    "x==x"
   ]
  },
  {
   "cell_type": "code",
   "execution_count": 12,
   "id": "c53876cd-ac5c-47cd-8535-8eb83d323362",
   "metadata": {},
   "outputs": [
    {
     "data": {
      "text/plain": [
       "True"
      ]
     },
     "execution_count": 12,
     "metadata": {},
     "output_type": "execute_result"
    }
   ],
   "source": [
    "x!=y"
   ]
  },
  {
   "cell_type": "code",
   "execution_count": 14,
   "id": "77f5c4e1-c2f8-4436-bbb0-6f4ab4df3906",
   "metadata": {},
   "outputs": [
    {
     "data": {
      "text/plain": [
       "False"
      ]
     },
     "execution_count": 14,
     "metadata": {},
     "output_type": "execute_result"
    }
   ],
   "source": [
    "x==y"
   ]
  },
  {
   "cell_type": "code",
   "execution_count": 16,
   "id": "f4bde38d-6265-43aa-9146-f47e6517301c",
   "metadata": {},
   "outputs": [
    {
     "data": {
      "text/plain": [
       "True"
      ]
     },
     "execution_count": 16,
     "metadata": {},
     "output_type": "execute_result"
    }
   ],
   "source": [
    "10 < 50"
   ]
  },
  {
   "cell_type": "code",
   "execution_count": 18,
   "id": "f9861be7-a3ab-4845-bea2-9b20a1c15b49",
   "metadata": {},
   "outputs": [
    {
     "data": {
      "text/plain": [
       "False"
      ]
     },
     "execution_count": 18,
     "metadata": {},
     "output_type": "execute_result"
    }
   ],
   "source": [
    "10 < 10"
   ]
  },
  {
   "cell_type": "code",
   "execution_count": 20,
   "id": "6329c031-b5e8-4d2e-a173-c12cb7652a99",
   "metadata": {},
   "outputs": [
    {
     "data": {
      "text/plain": [
       "True"
      ]
     },
     "execution_count": 20,
     "metadata": {},
     "output_type": "execute_result"
    }
   ],
   "source": [
    "10 <= 10"
   ]
  },
  {
   "cell_type": "markdown",
   "id": "753b6efa-1a84-478d-95be-eed97a506993",
   "metadata": {},
   "source": [
    "## Logical Operators"
   ]
  },
  {
   "cell_type": "code",
   "execution_count": null,
   "id": "30fe6b1c-1aa2-41a1-ba60-c2a0545d276b",
   "metadata": {},
   "outputs": [],
   "source": [
    "# and   Returns True if both statements are true\n",
    "# or    Returns True if one of the statements is true\n",
    "# not   Reverse the reult, returns False if the result is True"
   ]
  },
  {
   "cell_type": "code",
   "execution_count": 24,
   "id": "bd2decf5-1019-45f5-9667-f95e5b4ad0b5",
   "metadata": {},
   "outputs": [
    {
     "data": {
      "text/plain": [
       "False"
      ]
     },
     "execution_count": 24,
     "metadata": {},
     "output_type": "execute_result"
    }
   ],
   "source": [
    "(10>50) and (50>10)"
   ]
  },
  {
   "cell_type": "code",
   "execution_count": 26,
   "id": "ac764cb1-9c41-460c-83b6-867a38d88852",
   "metadata": {},
   "outputs": [
    {
     "data": {
      "text/plain": [
       "True"
      ]
     },
     "execution_count": 26,
     "metadata": {},
     "output_type": "execute_result"
    }
   ],
   "source": [
    "(70>50) and (50>10)"
   ]
  },
  {
   "cell_type": "code",
   "execution_count": 28,
   "id": "8eb3c0db-0357-4c2a-968b-5cf89678d2f3",
   "metadata": {},
   "outputs": [
    {
     "data": {
      "text/plain": [
       "True"
      ]
     },
     "execution_count": 28,
     "metadata": {},
     "output_type": "execute_result"
    }
   ],
   "source": [
    "(10>50) or (50>10)"
   ]
  },
  {
   "cell_type": "code",
   "execution_count": 30,
   "id": "1d6b90af-49f8-405f-af1d-aee088fd97df",
   "metadata": {},
   "outputs": [
    {
     "data": {
      "text/plain": [
       "False"
      ]
     },
     "execution_count": 30,
     "metadata": {},
     "output_type": "execute_result"
    }
   ],
   "source": [
    "not(50>10)"
   ]
  },
  {
   "cell_type": "markdown",
   "id": "79fec93e-209c-47a6-b87e-98c5fa2c4869",
   "metadata": {},
   "source": [
    "## Membership Operators"
   ]
  },
  {
   "cell_type": "code",
   "execution_count": null,
   "id": "2861759d-3b23-4014-892f-c5227128f7d5",
   "metadata": {},
   "outputs": [],
   "source": [
    "# They are used to check if a specified value or string is within another value or string or sequence \n",
    "# in       Returns True if a sequence with a specified value is present in the object\n",
    "# not in   Returns True if a sequence with the specified value is not present in the object"
   ]
  },
  {
   "cell_type": "code",
   "execution_count": 33,
   "id": "5aacde2d-455a-43ed-974c-beebf5f0014b",
   "metadata": {},
   "outputs": [
    {
     "data": {
      "text/plain": [
       "True"
      ]
     },
     "execution_count": 33,
     "metadata": {},
     "output_type": "execute_result"
    }
   ],
   "source": [
    "ice_cream = \"I love Chocolate ice cream\"\n",
    "\"love\" in ice_cream"
   ]
  },
  {
   "cell_type": "code",
   "execution_count": 35,
   "id": "7e5bf2fa-cfa8-4c10-b1c9-82f4f3682881",
   "metadata": {},
   "outputs": [
    {
     "data": {
      "text/plain": [
       "True"
      ]
     },
     "execution_count": 35,
     "metadata": {},
     "output_type": "execute_result"
    }
   ],
   "source": [
    "scoops = [1,2,3,4,5]\n",
    "2 in scoops"
   ]
  },
  {
   "cell_type": "code",
   "execution_count": 37,
   "id": "b3ab4d20-9c90-4a2a-80d5-cbfdb7f2614a",
   "metadata": {},
   "outputs": [
    {
     "data": {
      "text/plain": [
       "True"
      ]
     },
     "execution_count": 37,
     "metadata": {},
     "output_type": "execute_result"
    }
   ],
   "source": [
    "scoops = [1,2,3,4,5]\n",
    "6 not in scoops"
   ]
  },
  {
   "cell_type": "code",
   "execution_count": 39,
   "id": "992ab426-cda8-416f-a9e2-05dd35bacb4a",
   "metadata": {},
   "outputs": [
    {
     "data": {
      "text/plain": [
       "True"
      ]
     },
     "execution_count": 39,
     "metadata": {},
     "output_type": "execute_result"
    }
   ],
   "source": [
    "scoops = [1,2,3,4,5]\n",
    "wanted_scoops = 8\n",
    "wanted_scoops not in scoops"
   ]
  },
  {
   "cell_type": "markdown",
   "id": "3170b8f5-d16a-4cec-bc1f-f3c9c8355c17",
   "metadata": {},
   "source": [
    "## /If-Elif-Else Statements"
   ]
  },
  {
   "attachments": {
    "18b8d9e9-a51c-4639-81c1-e04261067200.webp": {
     "image/webp": "[encoded data removed]"
    }
   },
   "cell_type": "markdown",
   "id": "cbc23f8f-aef9-44bc-b1fd-cef10eed34e3",
   "metadata": {},
   "source": [
    "![if_elif_else.webp](attachment:18b8d9e9-a51c-4639-81c1-e04261067200.webp)"
   ]
  },
  {
   "cell_type": "code",
   "execution_count": 49,
   "id": "c748fa58-9948-4e11-90d2-2856b3b3e401",
   "metadata": {},
   "outputs": [],
   "source": [
    "# You can have only one 'if' statement and only one 'else' statement, but you can have as many 'elif' that you need"
   ]
  },
  {
   "cell_type": "code",
   "execution_count": 51,
   "id": "29de7b08-fe1b-4e47-9162-d536fbdcb9ad",
   "metadata": {},
   "outputs": [
    {
     "name": "stdout",
     "output_type": "stream",
     "text": [
      "It worked\n"
     ]
    }
   ],
   "source": [
    "if 25 > 10:\n",
    "    print (\"It worked\")"
   ]
  },
  {
   "cell_type": "code",
   "execution_count": 57,
   "id": "1d3f3580-2866-45ca-b1e3-ef1309d4df6e",
   "metadata": {},
   "outputs": [
    {
     "name": "stdout",
     "output_type": "stream",
     "text": [
      "It did not work...\n"
     ]
    }
   ],
   "source": [
    "if 25 < 10:\n",
    "    print (\"It worked\")\n",
    "else:\n",
    "    print (\"It did not work...\")"
   ]
  },
  {
   "cell_type": "code",
   "execution_count": 59,
   "id": "631d7e18-899c-4ed2-9003-b81a3c8142b7",
   "metadata": {},
   "outputs": [
    {
     "name": "stdout",
     "output_type": "stream",
     "text": [
      "It worked\n"
     ]
    }
   ],
   "source": [
    "if 25 > 10:\n",
    "    print (\"It worked\")\n",
    "else:\n",
    "    print (\"It did not work...\")"
   ]
  },
  {
   "cell_type": "code",
   "execution_count": 63,
   "id": "bb35afa9-f742-4c5b-83df-54a2266974b0",
   "metadata": {},
   "outputs": [
    {
     "name": "stdout",
     "output_type": "stream",
     "text": [
      "elif3 worked\n"
     ]
    }
   ],
   "source": [
    "if 25 < 10:\n",
    "    print (\"It worked\")\n",
    "elif 25 < 20:\n",
    "    print (\"elif1 worked\")\n",
    "elif 25 < 21:\n",
    "    print (\"elif2 worked\")\n",
    "elif 25 < 40:\n",
    "    print (\"elif3 worked\")\n",
    "elif 25 < 50:\n",
    "    print (\"elif4 worked\")\n",
    "else:\n",
    "    print (\"It did not work...\")"
   ]
  },
  {
   "cell_type": "code",
   "execution_count": 65,
   "id": "252cda57-f61c-4ea7-9d20-84338b479a00",
   "metadata": {},
   "outputs": [
    {
     "name": "stdout",
     "output_type": "stream",
     "text": [
      "It did not work\n"
     ]
    }
   ],
   "source": [
    "print(\"It worked\") if 10>30 else print(\"It did not work\")"
   ]
  },
  {
   "cell_type": "markdown",
   "id": "4f03f13d-06e2-4b3e-a12b-c655bd9735a6",
   "metadata": {},
   "source": [
    "### Nested 'if' statement"
   ]
  },
  {
   "cell_type": "code",
   "execution_count": 78,
   "id": "c3b90f3b-41bc-48f1-901c-84c9695c509c",
   "metadata": {},
   "outputs": [
    {
     "name": "stdout",
     "output_type": "stream",
     "text": [
      "It worked\n",
      "The nested if worked\n"
     ]
    }
   ],
   "source": [
    "if 25 > 10:\n",
    "    print (\"It worked\")\n",
    "    if 10>5:\n",
    "        print(\"The nested if worked\")\n",
    "        "
   ]
  },
  {
   "cell_type": "markdown",
   "id": "94ad987e-2ce9-41f0-aae8-5b3f660be0fc",
   "metadata": {},
   "source": [
    "## -For loops "
   ]
  },
  {
   "attachments": {
    "02ead13e-bf49-43f1-aef8-988460e63e06.jpg": {
     "image/jpeg": "[encoded data removed]"
    }
   },
   "cell_type": "markdown",
   "id": "7b55ba98-0dd3-49ae-b932-106120b7248f",
   "metadata": {},
   "source": [
    "![forloop_python.jpg](attachment:02ead13e-bf49-43f1-aef8-988460e63e06.jpg)"
   ]
  },
  {
   "cell_type": "code",
   "execution_count": 92,
   "id": "729af3af-4e7e-4bea-8687-3ea1ec3062dc",
   "metadata": {},
   "outputs": [],
   "source": [
    "integers = [1,2,3,4,5]"
   ]
  },
  {
   "cell_type": "code",
   "execution_count": 94,
   "id": "f659c064-5b00-4994-b079-dc5e95ad66d1",
   "metadata": {},
   "outputs": [
    {
     "name": "stdout",
     "output_type": "stream",
     "text": [
      "1\n",
      "2\n",
      "3\n",
      "4\n",
      "5\n"
     ]
    }
   ],
   "source": [
    "for number in integers:\n",
    "    print(number)"
   ]
  },
  {
   "cell_type": "code",
   "execution_count": 96,
   "id": "cdc96218-94d3-4190-8e27-3d4f8f478669",
   "metadata": {},
   "outputs": [
    {
     "name": "stdout",
     "output_type": "stream",
     "text": [
      "1 yep\n",
      "2 yep\n",
      "3 yep\n",
      "4 yep\n",
      "5 yep\n"
     ]
    }
   ],
   "source": [
    "for number in integers:\n",
    "    print(number, \"yep\")"
   ]
  },
  {
   "cell_type": "code",
   "execution_count": 100,
   "id": "eb08659a-2f81-4534-8daa-e1af24f57a5d",
   "metadata": {},
   "outputs": [
    {
     "name": "stdout",
     "output_type": "stream",
     "text": [
      "2\n",
      "3\n",
      "4\n",
      "5\n",
      "6\n"
     ]
    }
   ],
   "source": [
    "for n in integers:\n",
    "    print(n+1)"
   ]
  },
  {
   "cell_type": "code",
   "execution_count": 105,
   "id": "1d6d6225-b0bd-4ea5-9542-090fa6d5a24d",
   "metadata": {},
   "outputs": [],
   "source": [
    "ice_cream_dict = {\"name\": \"Alex Freberg\", \"weekly intake\": 5, \"favourite ice creams\": [\"mcc\",\"chocolate\"]}"
   ]
  },
  {
   "cell_type": "code",
   "execution_count": 107,
   "id": "675e128c-e422-42ad-8057-dd4b79c38d73",
   "metadata": {},
   "outputs": [
    {
     "name": "stdout",
     "output_type": "stream",
     "text": [
      "Alex Freberg\n",
      "5\n",
      "['mcc', 'chocolate']\n"
     ]
    }
   ],
   "source": [
    "for cream in ice_cream_dict.values():\n",
    "    print(cream)"
   ]
  },
  {
   "cell_type": "code",
   "execution_count": 109,
   "id": "a4c4c4f2-0b6a-4b3d-965a-dab611a4ecc4",
   "metadata": {},
   "outputs": [
    {
     "name": "stdout",
     "output_type": "stream",
     "text": [
      "name --> Alex Freberg\n",
      "weekly intake --> 5\n",
      "favourite ice creams --> ['mcc', 'chocolate']\n"
     ]
    }
   ],
   "source": [
    "for key, value in ice_cream_dict.items():\n",
    "    print(key,'-->',value)"
   ]
  },
  {
   "cell_type": "markdown",
   "id": "d8beffbd-b8a9-4a4b-9d91-ed17c917016d",
   "metadata": {},
   "source": [
    "### Nested for loops"
   ]
  },
  {
   "cell_type": "code",
   "execution_count": 113,
   "id": "34d4e0ec-2e88-4474-95fa-9bd758489152",
   "metadata": {},
   "outputs": [],
   "source": [
    "flavours = [\"vanilla\",\"chocolate\",\"mint\"]\n",
    "toppings = [\"hot fudge\",\"oreos\",\"marshmallows\"]"
   ]
  },
  {
   "cell_type": "code",
   "execution_count": 117,
   "id": "3339494e-be41-48ab-92ec-6bcf4176f55d",
   "metadata": {},
   "outputs": [
    {
     "name": "stdout",
     "output_type": "stream",
     "text": [
      "vanilla topped with hot fudge\n",
      "vanilla topped with oreos\n",
      "vanilla topped with marshmallows\n",
      "chocolate topped with hot fudge\n",
      "chocolate topped with oreos\n",
      "chocolate topped with marshmallows\n",
      "mint topped with hot fudge\n",
      "mint topped with oreos\n",
      "mint topped with marshmallows\n"
     ]
    }
   ],
   "source": [
    "for one in flavours:\n",
    "    for two in toppings:\n",
    "        print(one, 'topped with', two)"
   ]
  },
  {
   "cell_type": "markdown",
   "id": "270d82c1-72dd-4873-9e1a-9661a0d8de49",
   "metadata": {},
   "source": [
    "## -While Loops"
   ]
  },
  {
   "attachments": {
    "7fb69c59-dc98-4d36-8943-838749239e84.png": {
     "image/png": "[encoded data removed]"
    }
   },
   "cell_type": "markdown",
   "id": "30ae0b2a-18f9-4db9-8bc9-512055152536",
   "metadata": {},
   "source": [
    "![python-while-loop-flowchart.png](attachment:7fb69c59-dc98-4d36-8943-838749239e84.png)"
   ]
  },
  {
   "cell_type": "code",
   "execution_count": 121,
   "id": "e50d1be5-6dc7-45e9-bc6c-c9506c47d5d8",
   "metadata": {},
   "outputs": [],
   "source": [
    "# Used to iterate over the block of code as long as the test condition is true"
   ]
  },
  {
   "cell_type": "code",
   "execution_count": 126,
   "id": "dfb51ec5-bac1-4d10-8ec0-e11b4e6bd5cf",
   "metadata": {},
   "outputs": [
    {
     "name": "stdout",
     "output_type": "stream",
     "text": [
      "0\n",
      "1\n",
      "2\n",
      "3\n",
      "4\n"
     ]
    }
   ],
   "source": [
    "number = 0\n",
    "while number < 5:\n",
    "    print(number)\n",
    "    number=number + 1"
   ]
  },
  {
   "cell_type": "code",
   "execution_count": 134,
   "id": "f9ada5d9-53eb-4f89-82f4-afbcfb56234b",
   "metadata": {},
   "outputs": [
    {
     "name": "stdout",
     "output_type": "stream",
     "text": [
      "0\n",
      "1\n",
      "2\n",
      "3\n",
      "4\n",
      "no longer < 5\n"
     ]
    }
   ],
   "source": [
    "# the break statement breaks the iteration even if it can go on\n",
    "number = 0\n",
    "while number < 5:\n",
    "    print(number)\n",
    "    if number == 6:\n",
    "        break\n",
    "    number=number + 1\n",
    "else:\n",
    "    print(\"no longer < 5\")"
   ]
  },
  {
   "cell_type": "code",
   "execution_count": 136,
   "id": "0628b9a9-4778-44b2-88b6-8569a5553107",
   "metadata": {},
   "outputs": [
    {
     "name": "stdout",
     "output_type": "stream",
     "text": [
      "1\n",
      "1\n",
      "2\n",
      "2\n",
      "3\n",
      "3\n",
      "4\n",
      "4\n",
      "5\n",
      "5\n",
      "no longer < 5\n"
     ]
    }
   ],
   "source": [
    "number = 0\n",
    "while number < 5:\n",
    "    number=number + 1\n",
    "    print(number)\n",
    "    if number == 6:\n",
    "        continue\n",
    "    print(number)\n",
    "else:\n",
    "    print(\"no longer < 5\")"
   ]
  },
  {
   "cell_type": "markdown",
   "id": "9a595147-255a-4564-81ac-dcf63438a61b",
   "metadata": {},
   "source": [
    "# -Functions"
   ]
  },
  {
   "cell_type": "code",
   "execution_count": 139,
   "id": "a6edb880-237f-4696-a3d8-4d0682a98b2c",
   "metadata": {},
   "outputs": [],
   "source": [
    "# It is a block of code that only runs when it is called"
   ]
  },
  {
   "cell_type": "code",
   "execution_count": 146,
   "id": "f6afaa01-2673-45f1-8c68-366d3c906043",
   "metadata": {},
   "outputs": [],
   "source": [
    "def first_function():\n",
    "    print(\"My First Function\")"
   ]
  },
  {
   "cell_type": "code",
   "execution_count": 148,
   "id": "3d14631a-5b15-4a64-a0cd-2fc2f6148ddc",
   "metadata": {},
   "outputs": [
    {
     "name": "stdout",
     "output_type": "stream",
     "text": [
      "My First Function\n"
     ]
    }
   ],
   "source": [
    "first_function()"
   ]
  },
  {
   "cell_type": "code",
   "execution_count": 150,
   "id": "2ed0a4ac-b60e-476e-80ac-5cb9d8cae0e9",
   "metadata": {},
   "outputs": [],
   "source": [
    "def number_squared(number):\n",
    "    print(number**2)\n",
    "    "
   ]
  },
  {
   "cell_type": "code",
   "execution_count": 152,
   "id": "0dbd816f-fef8-4232-a641-db125e9b913d",
   "metadata": {},
   "outputs": [
    {
     "name": "stdout",
     "output_type": "stream",
     "text": [
      "25\n"
     ]
    }
   ],
   "source": [
    "number_squared(5)"
   ]
  },
  {
   "cell_type": "code",
   "execution_count": 154,
   "id": "c91e720b-999c-4d44-8c9c-e35456ec10a8",
   "metadata": {},
   "outputs": [],
   "source": [
    "def number_squared_cust(number,power):\n",
    "    print(number**power)\n",
    "    "
   ]
  },
  {
   "cell_type": "code",
   "execution_count": 158,
   "id": "bcaf17ad-f496-4c38-94f3-5cd4b5f8fe80",
   "metadata": {},
   "outputs": [
    {
     "name": "stdout",
     "output_type": "stream",
     "text": [
      "125\n"
     ]
    }
   ],
   "source": [
    "number_squared_cust(5,3)\n",
    "    "
   ]
  },
  {
   "cell_type": "markdown",
   "id": "58dbbbd5-1166-4838-8cfd-9aec7c29eaff",
   "metadata": {},
   "source": [
    "#### Arbitrary arguments"
   ]
  },
  {
   "cell_type": "code",
   "execution_count": 168,
   "id": "c0cf5e01-0bbe-441c-b819-6526693e0412",
   "metadata": {},
   "outputs": [],
   "source": [
    "\n",
    "args_tuple = (5,6,1,2,8)\n",
    "\n",
    "def number_args(*number):\n",
    "    print(number[0]*number[1])"
   ]
  },
  {
   "cell_type": "code",
   "execution_count": 170,
   "id": "af645404-ffba-4c63-b504-3df3d360698d",
   "metadata": {},
   "outputs": [
    {
     "name": "stdout",
     "output_type": "stream",
     "text": [
      "30\n"
     ]
    }
   ],
   "source": [
    "number_args(*args_tuple)"
   ]
  },
  {
   "cell_type": "code",
   "execution_count": 173,
   "id": "6275e69e-35c1-4fcc-8b7d-e6c5b1a05383",
   "metadata": {},
   "outputs": [],
   "source": [
    "def number_squared_cust(number,power):\n",
    "    print(number**power)"
   ]
  },
  {
   "cell_type": "markdown",
   "id": "4d5f2eea-681b-430e-9108-8d92c8a82ddd",
   "metadata": {},
   "source": [
    "#### Keyword Arguments"
   ]
  },
  {
   "cell_type": "code",
   "execution_count": 177,
   "id": "b47a7b27-ef25-4d4b-882b-c201a044774e",
   "metadata": {},
   "outputs": [],
   "source": [
    "def number_squared_cust(number,power):\n",
    "    print(number**power)"
   ]
  },
  {
   "cell_type": "code",
   "execution_count": 180,
   "id": "ec6a3fea-b3b7-4119-ab5f-20502f47793d",
   "metadata": {},
   "outputs": [
    {
     "name": "stdout",
     "output_type": "stream",
     "text": [
      "243\n"
     ]
    }
   ],
   "source": [
    "number_squared_cust(power=5,number=3)"
   ]
  },
  {
   "cell_type": "code",
   "execution_count": 213,
   "id": "42d59cf7-4666-4b11-a8a2-3f38746508f0",
   "metadata": {},
   "outputs": [],
   "source": [
    "def number_kwarg(**number):\n",
    "    print('My number is: ' + number['integer'] + ' My other number: ' + number['integer2'])"
   ]
  },
  {
   "cell_type": "code",
   "execution_count": 211,
   "id": "eb0abc94-d185-410a-8845-2a450b1139cb",
   "metadata": {},
   "outputs": [
    {
     "name": "stdout",
     "output_type": "stream",
     "text": [
      "My number is:2309 My other number:349\n"
     ]
    }
   ],
   "source": [
    "number_kwarg(integer = '2309', integer2 = '349')"
   ]
  },
  {
   "cell_type": "markdown",
   "id": "e4e13984-1095-46c8-9597-f210a4648b75",
   "metadata": {},
   "source": [
    "# Converting Data Types"
   ]
  },
  {
   "cell_type": "code",
   "execution_count": 216,
   "id": "e0a19a5f-ca9b-439e-86c0-e3c3ed3e0d11",
   "metadata": {},
   "outputs": [],
   "source": [
    "# Converting a string into integer\n",
    "num_in = 7"
   ]
  },
  {
   "cell_type": "code",
   "execution_count": 220,
   "id": "c294ffb6-3d04-4c3b-9078-014c29ef2018",
   "metadata": {},
   "outputs": [
    {
     "data": {
      "text/plain": [
       "int"
      ]
     },
     "execution_count": 220,
     "metadata": {},
     "output_type": "execute_result"
    }
   ],
   "source": [
    "type(num_in)"
   ]
  },
  {
   "cell_type": "code",
   "execution_count": 222,
   "id": "0819f2f2-c066-468d-8899-0bfa28a802d8",
   "metadata": {},
   "outputs": [],
   "source": [
    "num_str = '7'"
   ]
  },
  {
   "cell_type": "code",
   "execution_count": 224,
   "id": "c142d2a6-a33a-431d-b49d-fa97311d27d0",
   "metadata": {},
   "outputs": [
    {
     "data": {
      "text/plain": [
       "str"
      ]
     },
     "execution_count": 224,
     "metadata": {},
     "output_type": "execute_result"
    }
   ],
   "source": [
    "type(num_str)"
   ]
  },
  {
   "cell_type": "code",
   "execution_count": 232,
   "id": "24db3054-f5cc-4c89-be28-a94e5497e35b",
   "metadata": {},
   "outputs": [],
   "source": [
    "num_str_conv = int(num_str)"
   ]
  },
  {
   "cell_type": "code",
   "execution_count": 236,
   "id": "14a3da46-3c6f-48af-ae62-1fdf2b32b338",
   "metadata": {},
   "outputs": [],
   "source": [
    "num_sum = num_in + num_str_conv"
   ]
  },
  {
   "cell_type": "code",
   "execution_count": 238,
   "id": "b6e73752-9ac5-488e-af2d-cbe8f637e518",
   "metadata": {},
   "outputs": [
    {
     "name": "stdout",
     "output_type": "stream",
     "text": [
      "14\n"
     ]
    }
   ],
   "source": [
    "print(num_sum)"
   ]
  },
  {
   "cell_type": "code",
   "execution_count": 240,
   "id": "11d23388-acd8-48fe-b2e1-cf53e7b6d906",
   "metadata": {},
   "outputs": [
    {
     "data": {
      "text/plain": [
       "list"
      ]
     },
     "execution_count": 240,
     "metadata": {},
     "output_type": "execute_result"
    }
   ],
   "source": [
    "# Converting lists, tuples and sets\n",
    "list_type = [1,2,3]\n",
    "type(list_type)"
   ]
  },
  {
   "cell_type": "code",
   "execution_count": 242,
   "id": "e32ef4c7-4c72-4db1-9a69-12ed752f9bb8",
   "metadata": {},
   "outputs": [
    {
     "data": {
      "text/plain": [
       "(1, 2, 3)"
      ]
     },
     "execution_count": 242,
     "metadata": {},
     "output_type": "execute_result"
    }
   ],
   "source": [
    "tuple(list_type)"
   ]
  },
  {
   "cell_type": "code",
   "execution_count": 244,
   "id": "6dfc0267-7d82-4e54-8b37-2bb7d7a57665",
   "metadata": {},
   "outputs": [],
   "source": [
    "list_type = (1,2,3,1,2,3,3,2,3,2,1,2,3,1)"
   ]
  },
  {
   "cell_type": "code",
   "execution_count": 246,
   "id": "2451ef7d-5ea6-4aad-bac3-78dae3327ebc",
   "metadata": {},
   "outputs": [
    {
     "data": {
      "text/plain": [
       "{1, 2, 3}"
      ]
     },
     "execution_count": 246,
     "metadata": {},
     "output_type": "execute_result"
    }
   ],
   "source": [
    "set(list_type)"
   ]
  },
  {
   "cell_type": "code",
   "execution_count": 248,
   "id": "cb653f6b-5ee5-4507-958f-55626423b5d5",
   "metadata": {},
   "outputs": [
    {
     "data": {
      "text/plain": [
       "dict"
      ]
     },
     "execution_count": 248,
     "metadata": {},
     "output_type": "execute_result"
    }
   ],
   "source": [
    "dict_type = {'name':'Diego','age':'23','hair':'black' }\n",
    "type(dict_type)"
   ]
  },
  {
   "cell_type": "code",
   "execution_count": 250,
   "id": "5faad114-3020-4af3-b055-72b579068a1b",
   "metadata": {},
   "outputs": [
    {
     "data": {
      "text/plain": [
       "dict_items([('name', 'Diego'), ('age', '23'), ('hair', 'black')])"
      ]
     },
     "execution_count": 250,
     "metadata": {},
     "output_type": "execute_result"
    }
   ],
   "source": [
    "dict_type.items()"
   ]
  },
  {
   "cell_type": "code",
   "execution_count": 252,
   "id": "d8408a00-ac20-4acf-a115-23971c220eb4",
   "metadata": {},
   "outputs": [
    {
     "data": {
      "text/plain": [
       "dict_values(['Diego', '23', 'black'])"
      ]
     },
     "execution_count": 252,
     "metadata": {},
     "output_type": "execute_result"
    }
   ],
   "source": [
    "dict_type.values()"
   ]
  },
  {
   "cell_type": "code",
   "execution_count": 258,
   "id": "83558efb-96e9-4c9a-8470-896addaf30f2",
   "metadata": {},
   "outputs": [
    {
     "data": {
      "text/plain": [
       "dict_keys(['name', 'age', 'hair'])"
      ]
     },
     "execution_count": 258,
     "metadata": {},
     "output_type": "execute_result"
    }
   ],
   "source": [
    "dict_type.keys()"
   ]
  },
  {
   "cell_type": "code",
   "execution_count": 260,
   "id": "90b97347-fd1e-4a83-90ae-61e1de4e3e7d",
   "metadata": {},
   "outputs": [
    {
     "data": {
      "text/plain": [
       "['name', 'age', 'hair']"
      ]
     },
     "execution_count": 260,
     "metadata": {},
     "output_type": "execute_result"
    }
   ],
   "source": [
    "list(dict_type.keys())"
   ]
  },
  {
   "cell_type": "code",
   "execution_count": 271,
   "id": "84a0fb34-d40a-4823-946b-86ba50cd2052",
   "metadata": {},
   "outputs": [
    {
     "data": {
      "text/plain": [
       "['I', ' ', 'l', 'i', 'k', 'e', ' ', 't', 'o', ' ', 'p', 'a', 'r', 't', 'y']"
      ]
     },
     "execution_count": 271,
     "metadata": {},
     "output_type": "execute_result"
    }
   ],
   "source": [
    "# Converting longer strings \n",
    "long_str = \"I like to party\"\n",
    "list(long_str)"
   ]
  },
  {
   "cell_type": "code",
   "execution_count": 273,
   "id": "3cf86c44-d082-4176-9fc9-e72dcb523681",
   "metadata": {},
   "outputs": [
    {
     "data": {
      "text/plain": [
       "{' ', 'I', 'a', 'e', 'i', 'k', 'l', 'o', 'p', 'r', 't', 'y'}"
      ]
     },
     "execution_count": 273,
     "metadata": {},
     "output_type": "execute_result"
    }
   ],
   "source": [
    "set(long_str)"
   ]
  },
  {
   "cell_type": "code",
   "execution_count": null,
   "id": "3ba3f430-682c-4ed7-b62d-f582c6c79f19",
   "metadata": {},
   "outputs": [],
   "source": []
  },
  {
   "cell_type": "code",
   "execution_count": null,
   "id": "a9e7911f-f7e4-4ffe-abb4-7e4c515c72cf",
   "metadata": {},
   "outputs": [],
   "source": []
  },
  {
   "cell_type": "code",
   "execution_count": null,
   "id": "9330ea30-f127-47b2-9d40-af27f5fdd40b",
   "metadata": {},
   "outputs": [],
   "source": []
  }
 ],
 "metadata": {
  "kernelspec": {
   "display_name": "Python 3 (ipykernel)",
   "language": "python",
   "name": "python3"
  },
  "language_info": {
   "codemirror_mode": {
    "name": "ipython",
    "version": 3
   },
   "file_extension": ".py",
   "mimetype": "text/x-python",
   "name": "python",
   "nbconvert_exporter": "python",
   "pygments_lexer": "ipython3",
   "version": "3.11.7"
  }
 },
 "nbformat": 4,
 "nbformat_minor": 5
}
